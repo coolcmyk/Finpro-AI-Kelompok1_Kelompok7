{
  "nbformat": 4,
  "nbformat_minor": 0,
  "metadata": {
    "colab": {
      "provenance": [],
      "gpuType": "T4"
    },
    "kernelspec": {
      "name": "python3",
      "display_name": "Python 3"
    },
    "language_info": {
      "name": "python"
    },
    "accelerator": "GPU"
  },
  "cells": [
    {
      "cell_type": "code",
      "execution_count": null,
      "metadata": {
        "colab": {
          "base_uri": "https://localhost:8080/"
        },
        "id": "6T19f-ZOniEC",
        "outputId": "d199fa9d-5854-426b-b8ee-60bf86ae4dd3"
      },
      "outputs": [
        {
          "output_type": "stream",
          "name": "stdout",
          "text": [
            "Cloning into 'FasterRCNN'...\n",
            "remote: Enumerating objects: 1810, done.\u001b[K\n",
            "remote: Counting objects: 100% (144/144), done.\u001b[K\n",
            "remote: Compressing objects: 100% (68/68), done.\u001b[K\n",
            "remote: Total 1810 (delta 76), reused 140 (delta 76), pack-reused 1666 (from 1)\u001b[K\n",
            "Receiving objects: 100% (1810/1810), 10.53 MiB | 13.18 MiB/s, done.\n",
            "Resolving deltas: 100% (966/966), done.\n"
          ]
        }
      ],
      "source": [
        "!git clone https://github.com/trzy/FasterRCNN"
      ]
    },
    {
      "cell_type": "code",
      "source": [
        "# !python -m venv tf2_venv\n",
        "# !source tf2_venv/bin/activate\n",
        "!pip install -r FasterRCNN/tf2/requirements.txt\n",
        "\n",
        "\n",
        "# !pip install -r FasterRCNN/pytorch/requirements.txt"
      ],
      "metadata": {
        "id": "NrWJ9u4Ln2rc",
        "colab": {
          "base_uri": "https://localhost:8080/"
        },
        "outputId": "17f85084-3700-42d5-8b45-2e9a83d49446"
      },
      "execution_count": null,
      "outputs": [
        {
          "output_type": "stream",
          "name": "stdout",
          "text": [
            "Requirement already satisfied: numpy in /usr/local/lib/python3.11/dist-packages (from -r FasterRCNN/tf2/requirements.txt (line 1)) (2.0.2)\n",
            "Requirement already satisfied: tensorflow in /usr/local/lib/python3.11/dist-packages (from -r FasterRCNN/tf2/requirements.txt (line 2)) (2.18.0)\n",
            "Requirement already satisfied: imageio in /usr/local/lib/python3.11/dist-packages (from -r FasterRCNN/tf2/requirements.txt (line 3)) (2.37.0)\n",
            "Requirement already satisfied: matplotlib in /usr/local/lib/python3.11/dist-packages (from -r FasterRCNN/tf2/requirements.txt (line 4)) (3.10.0)\n",
            "Requirement already satisfied: tqdm in /usr/local/lib/python3.11/dist-packages (from -r FasterRCNN/tf2/requirements.txt (line 5)) (4.67.1)\n",
            "Requirement already satisfied: absl-py>=1.0.0 in /usr/local/lib/python3.11/dist-packages (from tensorflow->-r FasterRCNN/tf2/requirements.txt (line 2)) (1.4.0)\n",
            "Requirement already satisfied: astunparse>=1.6.0 in /usr/local/lib/python3.11/dist-packages (from tensorflow->-r FasterRCNN/tf2/requirements.txt (line 2)) (1.6.3)\n",
            "Requirement already satisfied: flatbuffers>=24.3.25 in /usr/local/lib/python3.11/dist-packages (from tensorflow->-r FasterRCNN/tf2/requirements.txt (line 2)) (25.2.10)\n",
            "Requirement already satisfied: gast!=0.5.0,!=0.5.1,!=0.5.2,>=0.2.1 in /usr/local/lib/python3.11/dist-packages (from tensorflow->-r FasterRCNN/tf2/requirements.txt (line 2)) (0.6.0)\n",
            "Requirement already satisfied: google-pasta>=0.1.1 in /usr/local/lib/python3.11/dist-packages (from tensorflow->-r FasterRCNN/tf2/requirements.txt (line 2)) (0.2.0)\n",
            "Requirement already satisfied: libclang>=13.0.0 in /usr/local/lib/python3.11/dist-packages (from tensorflow->-r FasterRCNN/tf2/requirements.txt (line 2)) (18.1.1)\n",
            "Requirement already satisfied: opt-einsum>=2.3.2 in /usr/local/lib/python3.11/dist-packages (from tensorflow->-r FasterRCNN/tf2/requirements.txt (line 2)) (3.4.0)\n",
            "Requirement already satisfied: packaging in /usr/local/lib/python3.11/dist-packages (from tensorflow->-r FasterRCNN/tf2/requirements.txt (line 2)) (24.2)\n",
            "Requirement already satisfied: protobuf!=4.21.0,!=4.21.1,!=4.21.2,!=4.21.3,!=4.21.4,!=4.21.5,<6.0.0dev,>=3.20.3 in /usr/local/lib/python3.11/dist-packages (from tensorflow->-r FasterRCNN/tf2/requirements.txt (line 2)) (5.29.4)\n",
            "Requirement already satisfied: requests<3,>=2.21.0 in /usr/local/lib/python3.11/dist-packages (from tensorflow->-r FasterRCNN/tf2/requirements.txt (line 2)) (2.32.3)\n",
            "Requirement already satisfied: setuptools in /usr/local/lib/python3.11/dist-packages (from tensorflow->-r FasterRCNN/tf2/requirements.txt (line 2)) (75.2.0)\n",
            "Requirement already satisfied: six>=1.12.0 in /usr/local/lib/python3.11/dist-packages (from tensorflow->-r FasterRCNN/tf2/requirements.txt (line 2)) (1.17.0)\n",
            "Requirement already satisfied: termcolor>=1.1.0 in /usr/local/lib/python3.11/dist-packages (from tensorflow->-r FasterRCNN/tf2/requirements.txt (line 2)) (3.1.0)\n",
            "Requirement already satisfied: typing-extensions>=3.6.6 in /usr/local/lib/python3.11/dist-packages (from tensorflow->-r FasterRCNN/tf2/requirements.txt (line 2)) (4.13.2)\n",
            "Requirement already satisfied: wrapt>=1.11.0 in /usr/local/lib/python3.11/dist-packages (from tensorflow->-r FasterRCNN/tf2/requirements.txt (line 2)) (1.17.2)\n",
            "Requirement already satisfied: grpcio<2.0,>=1.24.3 in /usr/local/lib/python3.11/dist-packages (from tensorflow->-r FasterRCNN/tf2/requirements.txt (line 2)) (1.71.0)\n",
            "Requirement already satisfied: tensorboard<2.19,>=2.18 in /usr/local/lib/python3.11/dist-packages (from tensorflow->-r FasterRCNN/tf2/requirements.txt (line 2)) (2.18.0)\n",
            "Requirement already satisfied: keras>=3.5.0 in /usr/local/lib/python3.11/dist-packages (from tensorflow->-r FasterRCNN/tf2/requirements.txt (line 2)) (3.8.0)\n",
            "Requirement already satisfied: h5py>=3.11.0 in /usr/local/lib/python3.11/dist-packages (from tensorflow->-r FasterRCNN/tf2/requirements.txt (line 2)) (3.13.0)\n",
            "Requirement already satisfied: ml-dtypes<0.5.0,>=0.4.0 in /usr/local/lib/python3.11/dist-packages (from tensorflow->-r FasterRCNN/tf2/requirements.txt (line 2)) (0.4.1)\n",
            "Requirement already satisfied: tensorflow-io-gcs-filesystem>=0.23.1 in /usr/local/lib/python3.11/dist-packages (from tensorflow->-r FasterRCNN/tf2/requirements.txt (line 2)) (0.37.1)\n",
            "Requirement already satisfied: pillow>=8.3.2 in /usr/local/lib/python3.11/dist-packages (from imageio->-r FasterRCNN/tf2/requirements.txt (line 3)) (11.2.1)\n",
            "Requirement already satisfied: contourpy>=1.0.1 in /usr/local/lib/python3.11/dist-packages (from matplotlib->-r FasterRCNN/tf2/requirements.txt (line 4)) (1.3.2)\n",
            "Requirement already satisfied: cycler>=0.10 in /usr/local/lib/python3.11/dist-packages (from matplotlib->-r FasterRCNN/tf2/requirements.txt (line 4)) (0.12.1)\n",
            "Requirement already satisfied: fonttools>=4.22.0 in /usr/local/lib/python3.11/dist-packages (from matplotlib->-r FasterRCNN/tf2/requirements.txt (line 4)) (4.58.0)\n",
            "Requirement already satisfied: kiwisolver>=1.3.1 in /usr/local/lib/python3.11/dist-packages (from matplotlib->-r FasterRCNN/tf2/requirements.txt (line 4)) (1.4.8)\n",
            "Requirement already satisfied: pyparsing>=2.3.1 in /usr/local/lib/python3.11/dist-packages (from matplotlib->-r FasterRCNN/tf2/requirements.txt (line 4)) (3.2.3)\n",
            "Requirement already satisfied: python-dateutil>=2.7 in /usr/local/lib/python3.11/dist-packages (from matplotlib->-r FasterRCNN/tf2/requirements.txt (line 4)) (2.9.0.post0)\n",
            "Requirement already satisfied: wheel<1.0,>=0.23.0 in /usr/local/lib/python3.11/dist-packages (from astunparse>=1.6.0->tensorflow->-r FasterRCNN/tf2/requirements.txt (line 2)) (0.45.1)\n",
            "Requirement already satisfied: rich in /usr/local/lib/python3.11/dist-packages (from keras>=3.5.0->tensorflow->-r FasterRCNN/tf2/requirements.txt (line 2)) (13.9.4)\n",
            "Requirement already satisfied: namex in /usr/local/lib/python3.11/dist-packages (from keras>=3.5.0->tensorflow->-r FasterRCNN/tf2/requirements.txt (line 2)) (0.0.9)\n",
            "Requirement already satisfied: optree in /usr/local/lib/python3.11/dist-packages (from keras>=3.5.0->tensorflow->-r FasterRCNN/tf2/requirements.txt (line 2)) (0.15.0)\n",
            "Requirement already satisfied: charset-normalizer<4,>=2 in /usr/local/lib/python3.11/dist-packages (from requests<3,>=2.21.0->tensorflow->-r FasterRCNN/tf2/requirements.txt (line 2)) (3.4.2)\n",
            "Requirement already satisfied: idna<4,>=2.5 in /usr/local/lib/python3.11/dist-packages (from requests<3,>=2.21.0->tensorflow->-r FasterRCNN/tf2/requirements.txt (line 2)) (3.7)\n",
            "Requirement already satisfied: urllib3<3,>=1.21.1 in /usr/local/lib/python3.11/dist-packages (from requests<3,>=2.21.0->tensorflow->-r FasterRCNN/tf2/requirements.txt (line 2)) (2.4.0)\n",
            "Requirement already satisfied: certifi>=2017.4.17 in /usr/local/lib/python3.11/dist-packages (from requests<3,>=2.21.0->tensorflow->-r FasterRCNN/tf2/requirements.txt (line 2)) (2025.4.26)\n",
            "Requirement already satisfied: markdown>=2.6.8 in /usr/local/lib/python3.11/dist-packages (from tensorboard<2.19,>=2.18->tensorflow->-r FasterRCNN/tf2/requirements.txt (line 2)) (3.8)\n",
            "Requirement already satisfied: tensorboard-data-server<0.8.0,>=0.7.0 in /usr/local/lib/python3.11/dist-packages (from tensorboard<2.19,>=2.18->tensorflow->-r FasterRCNN/tf2/requirements.txt (line 2)) (0.7.2)\n",
            "Requirement already satisfied: werkzeug>=1.0.1 in /usr/local/lib/python3.11/dist-packages (from tensorboard<2.19,>=2.18->tensorflow->-r FasterRCNN/tf2/requirements.txt (line 2)) (3.1.3)\n",
            "Requirement already satisfied: MarkupSafe>=2.1.1 in /usr/local/lib/python3.11/dist-packages (from werkzeug>=1.0.1->tensorboard<2.19,>=2.18->tensorflow->-r FasterRCNN/tf2/requirements.txt (line 2)) (3.0.2)\n",
            "Requirement already satisfied: markdown-it-py>=2.2.0 in /usr/local/lib/python3.11/dist-packages (from rich->keras>=3.5.0->tensorflow->-r FasterRCNN/tf2/requirements.txt (line 2)) (3.0.0)\n",
            "Requirement already satisfied: pygments<3.0.0,>=2.13.0 in /usr/local/lib/python3.11/dist-packages (from rich->keras>=3.5.0->tensorflow->-r FasterRCNN/tf2/requirements.txt (line 2)) (2.19.1)\n",
            "Requirement already satisfied: mdurl~=0.1 in /usr/local/lib/python3.11/dist-packages (from markdown-it-py>=2.2.0->rich->keras>=3.5.0->tensorflow->-r FasterRCNN/tf2/requirements.txt (line 2)) (0.1.2)\n"
          ]
        }
      ]
    },
    {
      "cell_type": "code",
      "source": [
        "!pip install roboflow"
      ],
      "metadata": {
        "colab": {
          "base_uri": "https://localhost:8080/"
        },
        "id": "Z7TnQ5K7po9e",
        "outputId": "7c4861fc-4abf-4221-c62b-3553d46cc5f6"
      },
      "execution_count": null,
      "outputs": [
        {
          "output_type": "stream",
          "name": "stdout",
          "text": [
            "Requirement already satisfied: roboflow in /usr/local/lib/python3.11/dist-packages (1.1.65)\n",
            "Requirement already satisfied: certifi in /usr/local/lib/python3.11/dist-packages (from roboflow) (2025.4.26)\n",
            "Requirement already satisfied: idna==3.7 in /usr/local/lib/python3.11/dist-packages (from roboflow) (3.7)\n",
            "Requirement already satisfied: cycler in /usr/local/lib/python3.11/dist-packages (from roboflow) (0.12.1)\n",
            "Requirement already satisfied: kiwisolver>=1.3.1 in /usr/local/lib/python3.11/dist-packages (from roboflow) (1.4.8)\n",
            "Requirement already satisfied: matplotlib in /usr/local/lib/python3.11/dist-packages (from roboflow) (3.10.0)\n",
            "Requirement already satisfied: numpy>=1.18.5 in /usr/local/lib/python3.11/dist-packages (from roboflow) (2.0.2)\n",
            "Requirement already satisfied: opencv-python-headless==4.10.0.84 in /usr/local/lib/python3.11/dist-packages (from roboflow) (4.10.0.84)\n",
            "Requirement already satisfied: Pillow>=7.1.2 in /usr/local/lib/python3.11/dist-packages (from roboflow) (11.2.1)\n",
            "Requirement already satisfied: pillow-heif>=0.18.0 in /usr/local/lib/python3.11/dist-packages (from roboflow) (0.22.0)\n",
            "Requirement already satisfied: python-dateutil in /usr/local/lib/python3.11/dist-packages (from roboflow) (2.9.0.post0)\n",
            "Requirement already satisfied: python-dotenv in /usr/local/lib/python3.11/dist-packages (from roboflow) (1.1.0)\n",
            "Requirement already satisfied: requests in /usr/local/lib/python3.11/dist-packages (from roboflow) (2.32.3)\n",
            "Requirement already satisfied: six in /usr/local/lib/python3.11/dist-packages (from roboflow) (1.17.0)\n",
            "Requirement already satisfied: urllib3>=1.26.6 in /usr/local/lib/python3.11/dist-packages (from roboflow) (2.4.0)\n",
            "Requirement already satisfied: tqdm>=4.41.0 in /usr/local/lib/python3.11/dist-packages (from roboflow) (4.67.1)\n",
            "Requirement already satisfied: PyYAML>=5.3.1 in /usr/local/lib/python3.11/dist-packages (from roboflow) (6.0.2)\n",
            "Requirement already satisfied: requests-toolbelt in /usr/local/lib/python3.11/dist-packages (from roboflow) (1.0.0)\n",
            "Requirement already satisfied: filetype in /usr/local/lib/python3.11/dist-packages (from roboflow) (1.2.0)\n",
            "Requirement already satisfied: contourpy>=1.0.1 in /usr/local/lib/python3.11/dist-packages (from matplotlib->roboflow) (1.3.2)\n",
            "Requirement already satisfied: fonttools>=4.22.0 in /usr/local/lib/python3.11/dist-packages (from matplotlib->roboflow) (4.58.0)\n",
            "Requirement already satisfied: packaging>=20.0 in /usr/local/lib/python3.11/dist-packages (from matplotlib->roboflow) (24.2)\n",
            "Requirement already satisfied: pyparsing>=2.3.1 in /usr/local/lib/python3.11/dist-packages (from matplotlib->roboflow) (3.2.3)\n",
            "Requirement already satisfied: charset-normalizer<4,>=2 in /usr/local/lib/python3.11/dist-packages (from requests->roboflow) (3.4.2)\n"
          ]
        }
      ]
    },
    {
      "cell_type": "code",
      "source": [
        "#disini kita akan menggunakan dataset yang sama dengan kelompok pembanding\n",
        "#dataset: https://universe.roboflow.com/mohamed-traore-2ekkp/face-detection-mik1i\n",
        "\n",
        "from google.colab import userdata\n",
        "from roboflow import Roboflow\n",
        "\n",
        "ROBOFLOW_API_KEY = userdata.get('ROBOFLOW_API_KEY')\n",
        "rf = Roboflow(api_key=ROBOFLOW_API_KEY)\n",
        "\n",
        "workspace = rf.workspace(\"mohamed-traore-2ekkp\")\n",
        "project = workspace.project(\"face-detection-mik1i\")\n",
        "version = project.version(3)\n",
        "dataset = version.download(\"voc\")"
      ],
      "metadata": {
        "colab": {
          "base_uri": "https://localhost:8080/"
        },
        "id": "Hya1zEoGozeV",
        "outputId": "6a0ed621-231a-40f0-d696-601593a3cab8"
      },
      "execution_count": null,
      "outputs": [
        {
          "output_type": "stream",
          "name": "stdout",
          "text": [
            "loading Roboflow workspace...\n",
            "loading Roboflow project...\n"
          ]
        },
        {
          "output_type": "stream",
          "name": "stderr",
          "text": [
            "Downloading Dataset Version Zip in Face-Detection-3 to voc:: 100%|██████████| 44857/44857 [00:00<00:00, 49853.30it/s]"
          ]
        },
        {
          "output_type": "stream",
          "name": "stdout",
          "text": [
            "\n"
          ]
        },
        {
          "output_type": "stream",
          "name": "stderr",
          "text": [
            "\n",
            "Extracting Dataset Version Zip to Face-Detection-3 in voc:: 100%|██████████| 4337/4337 [00:00<00:00, 11229.64it/s]\n"
          ]
        }
      ]
    },
    {
      "cell_type": "code",
      "source": [
        "!./FasterRCNN/download_models.sh"
      ],
      "metadata": {
        "colab": {
          "base_uri": "https://localhost:8080/"
        },
        "id": "ssVIko_yrC1k",
        "outputId": "125b427c-f4fa-4984-8188-b09ed8e616c1"
      },
      "execution_count": null,
      "outputs": [
        {
          "output_type": "stream",
          "name": "stdout",
          "text": [
            "--2025-06-02 13:50:54--  http://trzy.org/files/fasterrcnn/vgg16_caffe.pth\n",
            "Resolving trzy.org (trzy.org)... 72.46.129.2\n",
            "Connecting to trzy.org (trzy.org)|72.46.129.2|:80... connected.\n",
            "HTTP request sent, awaiting response... 301 Moved Permanently\n",
            "Location: https://trzy.org/files/fasterrcnn/vgg16_caffe.pth [following]\n",
            "--2025-06-02 13:50:54--  https://trzy.org/files/fasterrcnn/vgg16_caffe.pth\n",
            "Connecting to trzy.org (trzy.org)|72.46.129.2|:443... connected.\n",
            "HTTP request sent, awaiting response... 200 OK\n",
            "Length: 553433685 (528M)\n",
            "Saving to: ‘vgg16_caffe.pth’\n",
            "\n",
            "vgg16_caffe.pth     100%[===================>] 527.79M  82.2MB/s    in 7.0s    \n",
            "\n",
            "2025-06-02 13:51:01 (75.9 MB/s) - ‘vgg16_caffe.pth’ saved [553433685/553433685]\n",
            "\n",
            "--2025-06-02 13:51:01--  http://trzy.org/files/fasterrcnn/fasterrcnn_pytorch_vgg16.pth\n",
            "Resolving trzy.org (trzy.org)... 72.46.129.2\n",
            "Connecting to trzy.org (trzy.org)|72.46.129.2|:80... connected.\n",
            "HTTP request sent, awaiting response... 301 Moved Permanently\n",
            "Location: https://trzy.org/files/fasterrcnn/fasterrcnn_pytorch_vgg16.pth [following]\n",
            "--2025-06-02 13:51:01--  https://trzy.org/files/fasterrcnn/fasterrcnn_pytorch_vgg16.pth\n",
            "Connecting to trzy.org (trzy.org)|72.46.129.2|:443... connected.\n",
            "HTTP request sent, awaiting response... 200 OK\n",
            "Length: 548245047 (523M)\n",
            "Saving to: ‘fasterrcnn_pytorch_vgg16.pth’\n",
            "\n",
            "fasterrcnn_pytorch_ 100%[===================>] 522.85M   112MB/s    in 4.8s    \n",
            "\n",
            "2025-06-02 13:51:06 (110 MB/s) - ‘fasterrcnn_pytorch_vgg16.pth’ saved [548245047/548245047]\n",
            "\n",
            "--2025-06-02 13:51:06--  http://trzy.org/files/fasterrcnn/fasterrcnn_tf2.h5\n",
            "Resolving trzy.org (trzy.org)... 72.46.129.2\n",
            "Connecting to trzy.org (trzy.org)|72.46.129.2|:80... connected.\n",
            "HTTP request sent, awaiting response... 301 Moved Permanently\n",
            "Location: https://trzy.org/files/fasterrcnn/fasterrcnn_tf2.h5 [following]\n",
            "--2025-06-02 13:51:06--  https://trzy.org/files/fasterrcnn/fasterrcnn_tf2.h5\n",
            "Connecting to trzy.org (trzy.org)|72.46.129.2|:443... connected.\n",
            "HTTP request sent, awaiting response... 200 OK\n",
            "Length: 548274928 (523M)\n",
            "Saving to: ‘fasterrcnn_tf2.h5’\n",
            "\n",
            "fasterrcnn_tf2.h5   100%[===================>] 522.88M  81.7MB/s    in 8.6s    \n",
            "\n",
            "2025-06-02 13:51:15 (61.1 MB/s) - ‘fasterrcnn_tf2.h5’ saved [548274928/548274928]\n",
            "\n",
            "--2025-06-02 13:51:15--  http://trzy.org/files/fasterrcnn/fasterrcnn_pytorch_resnet50.pth\n",
            "Resolving trzy.org (trzy.org)... 72.46.129.2\n",
            "Connecting to trzy.org (trzy.org)|72.46.129.2|:80... connected.\n",
            "HTTP request sent, awaiting response... 301 Moved Permanently\n",
            "Location: https://trzy.org/files/fasterrcnn/fasterrcnn_pytorch_resnet50.pth [following]\n",
            "--2025-06-02 13:51:15--  https://trzy.org/files/fasterrcnn/fasterrcnn_pytorch_resnet50.pth\n",
            "Connecting to trzy.org (trzy.org)|72.46.129.2|:443... connected.\n",
            "HTTP request sent, awaiting response... 200 OK\n",
            "Length: 133143993 (127M)\n",
            "Saving to: ‘fasterrcnn_pytorch_resnet50.pth’\n",
            "\n",
            "fasterrcnn_pytorch_ 100%[===================>] 126.98M   101MB/s    in 1.3s    \n",
            "\n",
            "2025-06-02 13:51:16 (101 MB/s) - ‘fasterrcnn_pytorch_resnet50.pth’ saved [133143993/133143993]\n",
            "\n"
          ]
        }
      ]
    },
    {
      "cell_type": "code",
      "source": [
        "!./FasterRCNN/download_dataset.sh"
      ],
      "metadata": {
        "colab": {
          "base_uri": "https://localhost:8080/"
        },
        "id": "1ySZkoU3ACl5",
        "outputId": "5df20451-1e25-4172-bc75-d0faa46cb77e"
      },
      "execution_count": null,
      "outputs": [
        {
          "output_type": "stream",
          "name": "stdout",
          "text": [
            "--2025-06-02 14:16:30--  http://host.robots.ox.ac.uk/pascal/VOC/voc2007/VOCtrainval_06-Nov-2007.tar\n",
            "Resolving host.robots.ox.ac.uk (host.robots.ox.ac.uk)... 129.67.94.152\n",
            "Connecting to host.robots.ox.ac.uk (host.robots.ox.ac.uk)|129.67.94.152|:80... connected.\n",
            "HTTP request sent, awaiting response... 200 OK\n",
            "Length: 460032000 (439M) [application/x-tar]\n",
            "Saving to: ‘VOCtrainval_06-Nov-2007.tar’\n",
            "\n",
            "VOCtrainval_06-Nov- 100%[===================>] 438.72M  15.4MB/s    in 21s     \n",
            "\n",
            "2025-06-02 14:16:52 (20.6 MB/s) - ‘VOCtrainval_06-Nov-2007.tar’ saved [460032000/460032000]\n",
            "\n",
            "--2025-06-02 14:16:52--  http://host.robots.ox.ac.uk/pascal/VOC/voc2007/VOCtest_06-Nov-2007.tar\n",
            "Resolving host.robots.ox.ac.uk (host.robots.ox.ac.uk)... 129.67.94.152\n",
            "Connecting to host.robots.ox.ac.uk (host.robots.ox.ac.uk)|129.67.94.152|:80... connected.\n",
            "HTTP request sent, awaiting response... 200 OK\n",
            "Length: 451020800 (430M) [application/x-tar]\n",
            "Saving to: ‘VOCtest_06-Nov-2007.tar’\n",
            "\n",
            "VOCtest_06-Nov-2007 100%[===================>] 430.13M  17.2MB/s    in 32s     \n",
            "\n",
            "2025-06-02 14:17:24 (13.3 MB/s) - ‘VOCtest_06-Nov-2007.tar’ saved [451020800/451020800]\n",
            "\n",
            "Dataset is located in VOCdevkit/VOC2007\n"
          ]
        }
      ]
    },
    {
      "cell_type": "code",
      "source": [
        "!rm -rf /content/Face-Detection-3"
      ],
      "metadata": {
        "id": "rBBOIGnz6wtJ"
      },
      "execution_count": null,
      "outputs": []
    },
    {
      "cell_type": "code",
      "source": [
        "import os\n",
        "import shutil\n",
        "from glob import glob\n",
        "\n",
        "# Paths\n",
        "base_dir = \"/content/Face-Detection-3\"\n",
        "ann_dir = os.path.join(base_dir, \"Annotations\")\n",
        "img_dir = os.path.join(base_dir, \"JPEGImages\")\n",
        "imagesets_main = os.path.join(base_dir, \"ImageSets\", \"Main\")\n",
        "os.makedirs(ann_dir, exist_ok=True)\n",
        "os.makedirs(img_dir, exist_ok=True)\n",
        "os.makedirs(imagesets_main, exist_ok=True)\n",
        "\n",
        "splits = ['train', 'valid', 'test']\n",
        "for split in splits:\n",
        "    split_dir = os.path.join(base_dir, split)\n",
        "    img_files = glob(os.path.join(split_dir, \"*.jpg\"))\n",
        "    print(f\"[{split.upper()}] Found {len(img_files)} images in {split_dir}\")\n",
        "\n",
        "    txt_path = os.path.join(imagesets_main, f\"{split}.txt\")\n",
        "    with open(txt_path, 'w') as f:\n",
        "        for img_file in img_files:\n",
        "            base = os.path.basename(img_file).replace(\".jpg\", \"\")\n",
        "            f.write(base + \"\\n\")\n",
        "            # Move to VOC structure\n",
        "            shutil.move(img_file, os.path.join(img_dir, os.path.basename(img_file)))\n",
        "            xml_file = img_file.replace(\".jpg\", \".xml\")\n",
        "            if os.path.exists(xml_file):\n",
        "                shutil.move(xml_file, os.path.join(ann_dir, os.path.basename(xml_file)))\n",
        "            else:\n",
        "                print(f\"⚠️ Missing XML for {img_file}\")\n",
        "\n",
        "# Create trainval.txt (train + valid)\n",
        "train_txt = os.path.join(imagesets_main, \"train.txt\")\n",
        "val_txt = os.path.join(imagesets_main, \"valid.txt\")\n",
        "trainval_txt = os.path.join(imagesets_main, \"trainval.txt\")\n",
        "\n",
        "with open(trainval_txt, \"w\") as f_trainval:\n",
        "    for fname in [train_txt, val_txt]:\n",
        "        if os.path.exists(fname):\n",
        "            with open(fname, \"r\") as f:\n",
        "                lines = f.readlines()\n",
        "                print(f\"Adding {len(lines)} entries from {fname}\")\n",
        "                f_trainval.writelines(lines)\n",
        "        else:\n",
        "            print(f\"❌ File missing: {fname}\")\n",
        "\n",
        "print(\"✅ Completed. Check contents of trainval.txt.\")\n"
      ],
      "metadata": {
        "colab": {
          "base_uri": "https://localhost:8080/"
        },
        "id": "yW9zsjTW1qfe",
        "outputId": "38aef74a-ade4-4b48-e16a-109e46f8af15"
      },
      "execution_count": null,
      "outputs": [
        {
          "output_type": "stream",
          "name": "stdout",
          "text": [
            "[TRAIN] Found 1896 images in /content/Face-Detection-3/train\n",
            "[VALID] Found 180 images in /content/Face-Detection-3/valid\n",
            "[TEST] Found 90 images in /content/Face-Detection-3/test\n",
            "Adding 1896 entries from /content/Face-Detection-3/ImageSets/Main/train.txt\n",
            "Adding 180 entries from /content/Face-Detection-3/ImageSets/Main/valid.txt\n",
            "✅ Completed. Check contents of trainval.txt.\n"
          ]
        }
      ]
    },
    {
      "cell_type": "code",
      "source": [
        "!python -m FasterRCNN.pytorch.FasterRCNN --train --epochs=10 --learning-rate=1e-3 --load-from=\"/content/vgg16_caffe.pth\" #--dataset-dir=\"/content/Face-Detection-3\""
      ],
      "metadata": {
        "colab": {
          "base_uri": "https://localhost:8080/"
        },
        "id": "9U3gRnZMwYwp",
        "outputId": "e445010c-31a6-403e-c913-ea1d732db4ac"
      },
      "execution_count": null,
      "outputs": [
        {
          "output_type": "stream",
          "name": "stdout",
          "text": [
            "Loaded initial VGG-16 layer weights from Caffe model '/content/vgg16_caffe.pth'\n",
            "Error(s) in loading state_dict for FasterRCNNModel:\n",
            "\tMissing key(s) in state_dict: \"_stage2_region_proposal_network._rpn_conv1.weight\", \"_stage2_region_proposal_network._rpn_conv1.bias\", \"_stage2_region_proposal_network._rpn_class.weight\", \"_stage2_region_proposal_network._rpn_class.bias\", \"_stage2_region_proposal_network._rpn_boxes.weight\", \"_stage2_region_proposal_network._rpn_boxes.bias\", \"_stage3_detector_network._pool_to_feature_vector._fc1.weight\", \"_stage3_detector_network._pool_to_feature_vector._fc1.bias\", \"_stage3_detector_network._pool_to_feature_vector._fc2.weight\", \"_stage3_detector_network._pool_to_feature_vector._fc2.bias\", \"_stage3_detector_network._classifier.weight\", \"_stage3_detector_network._classifier.bias\", \"_stage3_detector_network._regressor.weight\", \"_stage3_detector_network._regressor.bias\". \n",
            "\tUnexpected key(s) in state_dict: \"_stage3_detector_network._fc1.weight\", \"_stage3_detector_network._fc1.bias\", \"_stage3_detector_network._fc2.weight\", \"_stage3_detector_network._fc2.bias\". \n",
            "Training Parameters\n",
            "-------------------\n",
            "Initial weights   : /content/vgg16_caffe.pth\n",
            "Dataset           : VOCdevkit/VOC2007\n",
            "Training split    : trainval\n",
            "Evaluation split  : test\n",
            "Backbone          : vgg16\n",
            "Epochs            : 10\n",
            "Learning rate     : 0.001000\n",
            "Momentum          : 0.900000\n",
            "Weight decay      : 0.000500\n",
            "Dropout           : 0.000000\n",
            "Augmentation      : enabled\n",
            "Edge proposals    : included\n",
            "CSV log           : none\n",
            "Checkpoints       : disabled\n",
            "Final weights file: none\n",
            "Best weights file : none\n",
            "Traceback (most recent call last):\n",
            "  File \"<frozen runpy>\", line 198, in _run_module_as_main\n",
            "  File \"<frozen runpy>\", line 88, in _run_code\n",
            "  File \"/content/FasterRCNN/pytorch/FasterRCNN/__main__.py\", line 322, in <module>\n",
            "    train(model = model)\n",
            "  File \"/content/FasterRCNN/pytorch/FasterRCNN/__main__.py\", line 143, in train\n",
            "    training_data = voc.Dataset(\n",
            "                    ^^^^^^^^^^^^\n",
            "  File \"/content/FasterRCNN/pytorch/FasterRCNN/datasets/voc.py\", line 96, in __init__\n",
            "    self.class_name_to_index = { class_name: class_index for (class_index, class_name) in self.class_index_to_name.items() }\n",
            "                                                                                          ^^^^^^^^^^^^^^^^^^^^^^^^^^^^^^\n",
            "AttributeError: 'NoneType' object has no attribute 'items'\n"
          ]
        }
      ]
    },
    {
      "cell_type": "code",
      "source": [
        "import os\n",
        "import xml.etree.ElementTree as ET\n",
        "\n",
        "annotations_path = \"/content/Face-Detection-3/Annotations\"\n",
        "class_names = set()\n",
        "\n",
        "for xml_file in os.listdir(annotations_path):\n",
        "    if not xml_file.endswith(\".xml\"):\n",
        "        continue\n",
        "    tree = ET.parse(os.path.join(annotations_path, xml_file))\n",
        "    root = tree.getroot()\n",
        "    for obj in root.findall(\"object\"):\n",
        "        name = obj.find(\"name\").text.strip()\n",
        "        class_names.add(name)\n",
        "\n",
        "print(\"Classes found:\", class_names)\n"
      ],
      "metadata": {
        "colab": {
          "base_uri": "https://localhost:8080/"
        },
        "id": "oq9Gkc0_2rd6",
        "outputId": "41606e06-e7d9-4e28-cbc9-3f5210a152df"
      },
      "execution_count": null,
      "outputs": [
        {
          "output_type": "stream",
          "name": "stdout",
          "text": [
            "Classes found: {'face'}\n"
          ]
        }
      ]
    },
    {
      "cell_type": "code",
      "source": [
        "!cd /content/Face-Detection-3/Annotations\n",
        "!ls *.xml | sed 's/.xml$//' > /content/Face-Detection-3/ImageSets/Main/trainval.txt\n"
      ],
      "metadata": {
        "colab": {
          "base_uri": "https://localhost:8080/"
        },
        "id": "M0b_G6Gr3fUv",
        "outputId": "eb4a32b6-2674-444a-ed11-d34836ed076f"
      },
      "execution_count": null,
      "outputs": [
        {
          "output_type": "stream",
          "name": "stdout",
          "text": [
            "ls: cannot access '*.xml': No such file or directory\n"
          ]
        }
      ]
    },
    {
      "cell_type": "code",
      "source": [
        "import os\n",
        "\n",
        "# Paths\n",
        "dataset_root = \"/content/Face-Detection-3\"\n",
        "image_dir = os.path.join(dataset_root, \"JPEGImages\")\n",
        "annot_dir = os.path.join(dataset_root, \"Annotations\")\n",
        "split_file = os.path.join(dataset_root, \"ImageSets/Main/trainval.txt\")\n",
        "\n",
        "# Check each entry in trainval.txt\n",
        "with open(split_file, \"r\") as f:\n",
        "    missing_images = []\n",
        "    missing_annotations = []\n",
        "    for line in f:\n",
        "        name = line.strip()\n",
        "        image_path = os.path.join(image_dir, f\"{name}.jpg\")\n",
        "        annot_path = os.path.join(annot_dir, f\"{name}.xml\")\n",
        "\n",
        "        if not os.path.isfile(image_path):\n",
        "            missing_images.append(f\"Missing image: {name}.jpg\")\n",
        "\n",
        "        if not os.path.isfile(annot_path):\n",
        "            missing_annotations.append(f\"Missing annotation: {name}.xml\")\n",
        "\n",
        "# Output results\n",
        "if not missing_images and not missing_annotations:\n",
        "    print(\"✅ All files are present.\")\n",
        "else:\n",
        "    print(\"\\n\".join(missing_images + missing_annotations))\n"
      ],
      "metadata": {
        "colab": {
          "base_uri": "https://localhost:8080/"
        },
        "id": "zJhFett52-kd",
        "outputId": "b4205795-aa3b-4811-c0f0-c9abb4c1fed4"
      },
      "execution_count": null,
      "outputs": [
        {
          "output_type": "stream",
          "name": "stdout",
          "text": [
            "✅ All files are present.\n"
          ]
        }
      ]
    },
    {
      "cell_type": "code",
      "source": [
        "!python -m FasterRCNN.tf2.FasterRCNN \\\n",
        "  --train \\\n",
        "  --epochs=10 \\\n",
        "  --learning-rate=1e-3 \\\n",
        "  --load-from=\"/content/fasterrcnn_tf2.h5\" \\\n",
        "  --dataset-dir=\"/content/Face-Detection-3\""
      ],
      "metadata": {
        "colab": {
          "base_uri": "https://localhost:8080/"
        },
        "id": "2Gz0n-qwpxj7",
        "outputId": "6f1745e7-12e0-460f-e022-2611a61475ac"
      },
      "execution_count": null,
      "outputs": [
        {
          "output_type": "stream",
          "name": "stdout",
          "text": [
            "2025-06-02 13:05:01.836909: E external/local_xla/xla/stream_executor/cuda/cuda_fft.cc:477] Unable to register cuFFT factory: Attempting to register factory for plugin cuFFT when one has already been registered\n",
            "WARNING: All log messages before absl::InitializeLog() is called are written to STDERR\n",
            "E0000 00:00:1748869501.861302    1486 cuda_dnn.cc:8310] Unable to register cuDNN factory: Attempting to register factory for plugin cuDNN when one has already been registered\n",
            "E0000 00:00:1748869501.868205    1486 cuda_blas.cc:1418] Unable to register cuBLAS factory: Attempting to register factory for plugin cuBLAS when one has already been registered\n",
            "2025-06-02 13:05:01.892031: I tensorflow/core/platform/cpu_feature_guard.cc:210] This TensorFlow binary is optimized to use available CPU instructions in performance-critical operations.\n",
            "To enable the following instructions: AVX2 FMA, in other operations, rebuild TensorFlow with the appropriate compiler flags.\n",
            "WARNING:tensorflow:From /content/FasterRCNN/tf2/FasterRCNN/__main__.py:355: is_gpu_available (from tensorflow.python.framework.test_util) is deprecated and will be removed in a future version.\n",
            "Instructions for updating:\n",
            "Use `tf.config.list_physical_devices('GPU')` instead.\n",
            "2025-06-02 13:05:06.385893: E external/local_xla/xla/stream_executor/cuda/cuda_driver.cc:152] failed call to cuInit: INTERNAL: CUDA error: Failed call to cuInit: UNKNOWN ERROR (303)\n",
            "CUDA Available : yes\n",
            "GPU Available  : no\n",
            "Eager Execution: yes\n",
            "/usr/local/lib/python3.11/dist-packages/keras/src/layers/convolutional/base_conv.py:107: UserWarning: Do not pass an `input_shape`/`input_dim` argument to a layer. When using Sequential models, prefer using an `Input(shape)` object as the first layer in the model instead.\n",
            "  super().__init__(activity_regularizer=activity_regularizer, **kwargs)\n",
            "/usr/local/lib/python3.11/dist-packages/keras/src/layers/layer.py:393: UserWarning: `build()` was called on layer 'faster_rcnn_model', however the layer does not have a `build()` method implemented and it looks like it has unbuilt state. This will cause the layer to be marked as built, despite not being actually built, which may cause failures down the line. Make sure to implement a proper `build()` method.\n",
            "  warnings.warn(\n",
            "Traceback (most recent call last):\n",
            "  File \"<frozen runpy>\", line 198, in _run_module_as_main\n",
            "  File \"<frozen runpy>\", line 88, in _run_code\n",
            "  File \"/content/FasterRCNN/tf2/FasterRCNN/__main__.py\", line 389, in <module>\n",
            "    model.load_weights(filepath = options.load_from, by_name = True)\n",
            "  File \"/usr/local/lib/python3.11/dist-packages/keras/src/utils/traceback_utils.py\", line 122, in error_handler\n",
            "    raise e.with_traceback(filtered_tb) from None\n",
            "  File \"/usr/local/lib/python3.11/dist-packages/keras/src/legacy/saving/legacy_h5_format.py\", line 506, in load_weights_from_hdf5_group_by_name\n",
            "    raise ValueError(\n",
            "ValueError: Weight count mismatch for layer #0 (named feature_extractor). Layer expects 0 weight(s). Received 26 saved weight(s)\n"
          ]
        }
      ]
    }
  ]
}